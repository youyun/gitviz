{
 "cells": [
  {
   "cell_type": "markdown",
   "metadata": {},
   "source": [
    "# CS5346 Mini-Project 2 - Data Processing\n",
    "---"
   ]
  },
  {
   "cell_type": "code",
   "execution_count": 8,
   "metadata": {},
   "outputs": [],
   "source": [
    "import numpy as np\n",
    "import datetime as dt\n",
    "import pandas as pd\n",
    "import json"
   ]
  },
  {
   "cell_type": "code",
   "execution_count": 5,
   "metadata": {},
   "outputs": [],
   "source": [
    "with open('Mini-project-2-data.json', \"r\", encoding='utf-8') as json_data:\n",
    "    raw_data = json.load(json_data)"
   ]
  },
  {
   "cell_type": "code",
   "execution_count": 6,
   "metadata": {},
   "outputs": [
    {
     "data": {
      "text/plain": [
       "200000"
      ]
     },
     "execution_count": 6,
     "metadata": {},
     "output_type": "execute_result"
    }
   ],
   "source": [
    "len(raw_data)"
   ]
  },
  {
   "cell_type": "markdown",
   "metadata": {},
   "source": [
    "## Dataset 1\n",
    "__arXiv__\n",
    "- Author ID\n",
    "- Autho Name\n",
    "- Year\n",
    "- Venue\n",
    "- Journal Name\n",
    "- In Citations"
   ]
  },
  {
   "cell_type": "code",
   "execution_count": 78,
   "metadata": {},
   "outputs": [],
   "source": [
    "temp = pd.DataFrame(raw_data)\n",
    "arXiv = temp.loc[temp['venue'] == \"ArXiv\"]\n",
    "arXiv = arXiv[[\"authors\", \"id\", \"year\", \"inCitations\"]]\n",
    "arXiv[\"inCitations\"] = arXiv[\"inCitations\"].apply(lambda x: len(x))\n",
    "arXiv[\"year\"] = arXiv[\"year\"].apply(lambda x: int(x))"
   ]
  },
  {
   "cell_type": "code",
   "execution_count": 79,
   "metadata": {},
   "outputs": [],
   "source": [
    "temp = arXiv.set_index(['id', 'year', 'inCitations'])\n",
    "unnested_lst = []\n",
    "for col in temp.columns:\n",
    "    unnested_lst.append(temp[col].apply(pd.Series).stack())\n",
    "result = pd.concat(unnested_lst, axis=1, keys=temp.columns)\n",
    "result = result.reset_index()\n",
    "result[\"author_id\"] = result[\"authors\"].apply(lambda x: x[\"ids\"][0] if len(x[\"ids\"]) > 0 else \"\")\n",
    "result[\"author_name\"] = result[\"authors\"].apply(lambda x: x[\"name\"])\n",
    "result = result.drop(['level_3', 'authors'], axis = 1)"
   ]
  },
  {
   "cell_type": "code",
   "execution_count": 142,
   "metadata": {},
   "outputs": [],
   "source": [
    "counting = result.groupby(['author_id']).size().reset_index(name='counts')\n",
    "counting = counting.sort_values(\"counts\", ascending=False)\n",
    "counting = counting.loc[counting['counts'] >= 3]\n",
    "counting = counting.author_id.as_matrix()"
   ]
  },
  {
   "cell_type": "code",
   "execution_count": 161,
   "metadata": {},
   "outputs": [],
   "source": [
    "top_ten = result.loc[result['author_id'].isin(counting)]\n",
    "top_ten = top_ten.groupby(['author_name', 'year']).size().reset_index(name='counts')\n",
    "top_ten = top_ten.pivot_table(index='author_name', columns=['year'], values='counts', fill_value=0).reset_index()"
   ]
  },
  {
   "cell_type": "code",
   "execution_count": 162,
   "metadata": {},
   "outputs": [],
   "source": [
    "top_ten.to_csv('obj1.csv', sep=',', encoding='utf-8', index=False)"
   ]
  },
  {
   "cell_type": "markdown",
   "metadata": {},
   "source": [
    "## Dataset 2\n",
    "__arXiv__\n",
    "- Year\n",
    "- Venue\n",
    "- In Citations"
   ]
  },
  {
   "cell_type": "code",
   "execution_count": 120,
   "metadata": {},
   "outputs": [],
   "source": [
    "temp = pd.DataFrame(raw_data)\n",
    "arXiv = temp.loc[temp['venue'] == \"ArXiv\"]\n",
    "arXiv = arXiv[[\"id\", \"year\", \"inCitations\"]]\n",
    "arXiv[\"year\"] = arXiv[\"year\"].apply(lambda x: int(x))\n",
    "arXiv[\"inCitations\"] = arXiv[\"inCitations\"].apply(lambda x: len(x))\n",
    "arXiv = arXiv.sort_values(\"inCitations\", ascending=False).groupby(\"year\").head(5).sort_values([\"year\", \"inCitations\"], ascending=[True, False])"
   ]
  },
  {
   "cell_type": "code",
   "execution_count": 121,
   "metadata": {},
   "outputs": [],
   "source": [
    "arXiv.to_csv('obj2.csv', sep=',', encoding='utf-8', index=False)"
   ]
  },
  {
   "cell_type": "markdown",
   "metadata": {},
   "source": [
    "## Dataset 3\n",
    "__ICSE__\n",
    "- Authors\n",
    "- Venue\n",
    "- In Citations\n",
    "- Out Citations"
   ]
  },
  {
   "cell_type": "code",
   "execution_count": 193,
   "metadata": {},
   "outputs": [],
   "source": [
    "temp = pd.DataFrame(raw_data)\n",
    "\n",
    "def getNames(authors):\n",
    "    names = \"\"\n",
    "    for a in authors: \n",
    "        names = names + a[\"name\"] + \", \"\n",
    "    return names[:-2]\n",
    "\n",
    "ICSE = temp.loc[temp['venue'] == \"ICSE\"]\n",
    "ICSE = ICSE[[\"authors\", \"year\", \"inCitations\", \"outCitations\"]]\n",
    "ICSE[\"year\"] = ICSE[\"year\"].apply(lambda x: int(x))\n",
    "ICSE[\"inCitations\"] = ICSE[\"inCitations\"].apply(lambda x: len(x))\n",
    "ICSE[\"outCitations\"] = ICSE[\"outCitations\"].apply(lambda x: len(x))\n",
    "ICSE[\"authors\"] = ICSE[\"authors\"].apply(lambda x: len(x))\n",
    "ICSE_year = ICSE.groupby(['year']).size().reset_index(name='counts').set_index('year')\n",
    "ICSE_others = ICSE.groupby(['year']).sum().reset_index()\n",
    "ICSE = ICSE_year.join(ICSE_others.set_index('year'))"
   ]
  },
  {
   "cell_type": "code",
   "execution_count": 194,
   "metadata": {},
   "outputs": [],
   "source": [
    "ICSE.to_csv('obj3.csv', sep=',', encoding='utf-8')"
   ]
  },
  {
   "cell_type": "code",
   "execution_count": null,
   "metadata": {},
   "outputs": [],
   "source": []
  }
 ],
 "metadata": {
  "kernelspec": {
   "display_name": "Python 3",
   "language": "python",
   "name": "python3"
  },
  "language_info": {
   "codemirror_mode": {
    "name": "ipython",
    "version": 3
   },
   "file_extension": ".py",
   "mimetype": "text/x-python",
   "name": "python",
   "nbconvert_exporter": "python",
   "pygments_lexer": "ipython3",
   "version": "3.6.3"
  }
 },
 "nbformat": 4,
 "nbformat_minor": 2
}
